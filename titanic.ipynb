{
 "cells": [
  {
   "cell_type": "code",
   "execution_count": 1,
   "id": "19b9ba0b-902f-425a-a8fb-92400f7c87d3",
   "metadata": {},
   "outputs": [],
   "source": [
    "import pandas as pd\n",
    "import numpy as np\n",
    "import matplotlib.pyplot as plt"
   ]
  },
  {
   "cell_type": "code",
   "execution_count": 2,
   "id": "52fc2e32-0757-48a0-8d46-621e2f8f298b",
   "metadata": {},
   "outputs": [
    {
     "data": {
      "text/html": [
       "<div>\n",
       "<style scoped>\n",
       "    .dataframe tbody tr th:only-of-type {\n",
       "        vertical-align: middle;\n",
       "    }\n",
       "\n",
       "    .dataframe tbody tr th {\n",
       "        vertical-align: top;\n",
       "    }\n",
       "\n",
       "    .dataframe thead th {\n",
       "        text-align: right;\n",
       "    }\n",
       "</style>\n",
       "<table border=\"1\" class=\"dataframe\">\n",
       "  <thead>\n",
       "    <tr style=\"text-align: right;\">\n",
       "      <th></th>\n",
       "      <th>PassengerId</th>\n",
       "      <th>Survived</th>\n",
       "      <th>Pclass</th>\n",
       "      <th>Name</th>\n",
       "      <th>Sex</th>\n",
       "      <th>Age</th>\n",
       "      <th>SibSp</th>\n",
       "      <th>Parch</th>\n",
       "      <th>Ticket</th>\n",
       "      <th>Fare</th>\n",
       "      <th>Cabin</th>\n",
       "      <th>Embarked</th>\n",
       "    </tr>\n",
       "  </thead>\n",
       "  <tbody>\n",
       "    <tr>\n",
       "      <th>0</th>\n",
       "      <td>1</td>\n",
       "      <td>0</td>\n",
       "      <td>3</td>\n",
       "      <td>Braund, Mr. Owen Harris</td>\n",
       "      <td>male</td>\n",
       "      <td>22.0</td>\n",
       "      <td>1</td>\n",
       "      <td>0</td>\n",
       "      <td>A/5 21171</td>\n",
       "      <td>7.2500</td>\n",
       "      <td>NaN</td>\n",
       "      <td>S</td>\n",
       "    </tr>\n",
       "    <tr>\n",
       "      <th>1</th>\n",
       "      <td>2</td>\n",
       "      <td>1</td>\n",
       "      <td>1</td>\n",
       "      <td>Cumings, Mrs. John Bradley (Florence Briggs Th...</td>\n",
       "      <td>female</td>\n",
       "      <td>38.0</td>\n",
       "      <td>1</td>\n",
       "      <td>0</td>\n",
       "      <td>PC 17599</td>\n",
       "      <td>71.2833</td>\n",
       "      <td>C85</td>\n",
       "      <td>C</td>\n",
       "    </tr>\n",
       "    <tr>\n",
       "      <th>2</th>\n",
       "      <td>3</td>\n",
       "      <td>1</td>\n",
       "      <td>3</td>\n",
       "      <td>Heikkinen, Miss. Laina</td>\n",
       "      <td>female</td>\n",
       "      <td>26.0</td>\n",
       "      <td>0</td>\n",
       "      <td>0</td>\n",
       "      <td>STON/O2. 3101282</td>\n",
       "      <td>7.9250</td>\n",
       "      <td>NaN</td>\n",
       "      <td>S</td>\n",
       "    </tr>\n",
       "    <tr>\n",
       "      <th>3</th>\n",
       "      <td>4</td>\n",
       "      <td>1</td>\n",
       "      <td>1</td>\n",
       "      <td>Futrelle, Mrs. Jacques Heath (Lily May Peel)</td>\n",
       "      <td>female</td>\n",
       "      <td>35.0</td>\n",
       "      <td>1</td>\n",
       "      <td>0</td>\n",
       "      <td>113803</td>\n",
       "      <td>53.1000</td>\n",
       "      <td>C123</td>\n",
       "      <td>S</td>\n",
       "    </tr>\n",
       "    <tr>\n",
       "      <th>4</th>\n",
       "      <td>5</td>\n",
       "      <td>0</td>\n",
       "      <td>3</td>\n",
       "      <td>Allen, Mr. William Henry</td>\n",
       "      <td>male</td>\n",
       "      <td>35.0</td>\n",
       "      <td>0</td>\n",
       "      <td>0</td>\n",
       "      <td>373450</td>\n",
       "      <td>8.0500</td>\n",
       "      <td>NaN</td>\n",
       "      <td>S</td>\n",
       "    </tr>\n",
       "  </tbody>\n",
       "</table>\n",
       "</div>"
      ],
      "text/plain": [
       "   PassengerId  Survived  Pclass  \\\n",
       "0            1         0       3   \n",
       "1            2         1       1   \n",
       "2            3         1       3   \n",
       "3            4         1       1   \n",
       "4            5         0       3   \n",
       "\n",
       "                                                Name     Sex   Age  SibSp  \\\n",
       "0                            Braund, Mr. Owen Harris    male  22.0      1   \n",
       "1  Cumings, Mrs. John Bradley (Florence Briggs Th...  female  38.0      1   \n",
       "2                             Heikkinen, Miss. Laina  female  26.0      0   \n",
       "3       Futrelle, Mrs. Jacques Heath (Lily May Peel)  female  35.0      1   \n",
       "4                           Allen, Mr. William Henry    male  35.0      0   \n",
       "\n",
       "   Parch            Ticket     Fare Cabin Embarked  \n",
       "0      0         A/5 21171   7.2500   NaN        S  \n",
       "1      0          PC 17599  71.2833   C85        C  \n",
       "2      0  STON/O2. 3101282   7.9250   NaN        S  \n",
       "3      0            113803  53.1000  C123        S  \n",
       "4      0            373450   8.0500   NaN        S  "
      ]
     },
     "execution_count": 2,
     "metadata": {},
     "output_type": "execute_result"
    }
   ],
   "source": [
    "df_titanic = pd.read_csv('https://raw.githubusercontent.com/datasciencedojo/datasets/master/titanic.csv')\n",
    "df_titanic.head()"
   ]
  },
  {
   "cell_type": "code",
   "execution_count": 3,
   "id": "85a9fc01-ccc7-4aa2-bdd3-6c409ef88eb0",
   "metadata": {},
   "outputs": [
    {
     "data": {
      "text/html": [
       "<div>\n",
       "<style scoped>\n",
       "    .dataframe tbody tr th:only-of-type {\n",
       "        vertical-align: middle;\n",
       "    }\n",
       "\n",
       "    .dataframe tbody tr th {\n",
       "        vertical-align: top;\n",
       "    }\n",
       "\n",
       "    .dataframe thead th {\n",
       "        text-align: right;\n",
       "    }\n",
       "</style>\n",
       "<table border=\"1\" class=\"dataframe\">\n",
       "  <thead>\n",
       "    <tr style=\"text-align: right;\">\n",
       "      <th></th>\n",
       "      <th>PassengerId</th>\n",
       "      <th>Survived</th>\n",
       "      <th>Pclass</th>\n",
       "      <th>Name</th>\n",
       "      <th>Sex</th>\n",
       "      <th>Age</th>\n",
       "      <th>SibSp</th>\n",
       "      <th>Parch</th>\n",
       "      <th>Ticket</th>\n",
       "      <th>Fare</th>\n",
       "      <th>Cabin</th>\n",
       "      <th>Embarked</th>\n",
       "    </tr>\n",
       "  </thead>\n",
       "  <tbody>\n",
       "    <tr>\n",
       "      <th>1</th>\n",
       "      <td>2</td>\n",
       "      <td>1</td>\n",
       "      <td>1</td>\n",
       "      <td>Cumings, Mrs. John Bradley (Florence Briggs Th...</td>\n",
       "      <td>female</td>\n",
       "      <td>38.0</td>\n",
       "      <td>1</td>\n",
       "      <td>0</td>\n",
       "      <td>PC 17599</td>\n",
       "      <td>71.2833</td>\n",
       "      <td>C85</td>\n",
       "      <td>C</td>\n",
       "    </tr>\n",
       "    <tr>\n",
       "      <th>3</th>\n",
       "      <td>4</td>\n",
       "      <td>1</td>\n",
       "      <td>1</td>\n",
       "      <td>Futrelle, Mrs. Jacques Heath (Lily May Peel)</td>\n",
       "      <td>female</td>\n",
       "      <td>35.0</td>\n",
       "      <td>1</td>\n",
       "      <td>0</td>\n",
       "      <td>113803</td>\n",
       "      <td>53.1000</td>\n",
       "      <td>C123</td>\n",
       "      <td>S</td>\n",
       "    </tr>\n",
       "    <tr>\n",
       "      <th>6</th>\n",
       "      <td>7</td>\n",
       "      <td>0</td>\n",
       "      <td>1</td>\n",
       "      <td>McCarthy, Mr. Timothy J</td>\n",
       "      <td>male</td>\n",
       "      <td>54.0</td>\n",
       "      <td>0</td>\n",
       "      <td>0</td>\n",
       "      <td>17463</td>\n",
       "      <td>51.8625</td>\n",
       "      <td>E46</td>\n",
       "      <td>S</td>\n",
       "    </tr>\n",
       "    <tr>\n",
       "      <th>10</th>\n",
       "      <td>11</td>\n",
       "      <td>1</td>\n",
       "      <td>3</td>\n",
       "      <td>Sandstrom, Miss. Marguerite Rut</td>\n",
       "      <td>female</td>\n",
       "      <td>4.0</td>\n",
       "      <td>1</td>\n",
       "      <td>1</td>\n",
       "      <td>PP 9549</td>\n",
       "      <td>16.7000</td>\n",
       "      <td>G6</td>\n",
       "      <td>S</td>\n",
       "    </tr>\n",
       "    <tr>\n",
       "      <th>11</th>\n",
       "      <td>12</td>\n",
       "      <td>1</td>\n",
       "      <td>1</td>\n",
       "      <td>Bonnell, Miss. Elizabeth</td>\n",
       "      <td>female</td>\n",
       "      <td>58.0</td>\n",
       "      <td>0</td>\n",
       "      <td>0</td>\n",
       "      <td>113783</td>\n",
       "      <td>26.5500</td>\n",
       "      <td>C103</td>\n",
       "      <td>S</td>\n",
       "    </tr>\n",
       "    <tr>\n",
       "      <th>...</th>\n",
       "      <td>...</td>\n",
       "      <td>...</td>\n",
       "      <td>...</td>\n",
       "      <td>...</td>\n",
       "      <td>...</td>\n",
       "      <td>...</td>\n",
       "      <td>...</td>\n",
       "      <td>...</td>\n",
       "      <td>...</td>\n",
       "      <td>...</td>\n",
       "      <td>...</td>\n",
       "      <td>...</td>\n",
       "    </tr>\n",
       "    <tr>\n",
       "      <th>871</th>\n",
       "      <td>872</td>\n",
       "      <td>1</td>\n",
       "      <td>1</td>\n",
       "      <td>Beckwith, Mrs. Richard Leonard (Sallie Monypeny)</td>\n",
       "      <td>female</td>\n",
       "      <td>47.0</td>\n",
       "      <td>1</td>\n",
       "      <td>1</td>\n",
       "      <td>11751</td>\n",
       "      <td>52.5542</td>\n",
       "      <td>D35</td>\n",
       "      <td>S</td>\n",
       "    </tr>\n",
       "    <tr>\n",
       "      <th>872</th>\n",
       "      <td>873</td>\n",
       "      <td>0</td>\n",
       "      <td>1</td>\n",
       "      <td>Carlsson, Mr. Frans Olof</td>\n",
       "      <td>male</td>\n",
       "      <td>33.0</td>\n",
       "      <td>0</td>\n",
       "      <td>0</td>\n",
       "      <td>695</td>\n",
       "      <td>5.0000</td>\n",
       "      <td>B51 B53 B55</td>\n",
       "      <td>S</td>\n",
       "    </tr>\n",
       "    <tr>\n",
       "      <th>879</th>\n",
       "      <td>880</td>\n",
       "      <td>1</td>\n",
       "      <td>1</td>\n",
       "      <td>Potter, Mrs. Thomas Jr (Lily Alexenia Wilson)</td>\n",
       "      <td>female</td>\n",
       "      <td>56.0</td>\n",
       "      <td>0</td>\n",
       "      <td>1</td>\n",
       "      <td>11767</td>\n",
       "      <td>83.1583</td>\n",
       "      <td>C50</td>\n",
       "      <td>C</td>\n",
       "    </tr>\n",
       "    <tr>\n",
       "      <th>887</th>\n",
       "      <td>888</td>\n",
       "      <td>1</td>\n",
       "      <td>1</td>\n",
       "      <td>Graham, Miss. Margaret Edith</td>\n",
       "      <td>female</td>\n",
       "      <td>19.0</td>\n",
       "      <td>0</td>\n",
       "      <td>0</td>\n",
       "      <td>112053</td>\n",
       "      <td>30.0000</td>\n",
       "      <td>B42</td>\n",
       "      <td>S</td>\n",
       "    </tr>\n",
       "    <tr>\n",
       "      <th>889</th>\n",
       "      <td>890</td>\n",
       "      <td>1</td>\n",
       "      <td>1</td>\n",
       "      <td>Behr, Mr. Karl Howell</td>\n",
       "      <td>male</td>\n",
       "      <td>26.0</td>\n",
       "      <td>0</td>\n",
       "      <td>0</td>\n",
       "      <td>111369</td>\n",
       "      <td>30.0000</td>\n",
       "      <td>C148</td>\n",
       "      <td>C</td>\n",
       "    </tr>\n",
       "  </tbody>\n",
       "</table>\n",
       "<p>183 rows × 12 columns</p>\n",
       "</div>"
      ],
      "text/plain": [
       "     PassengerId  Survived  Pclass  \\\n",
       "1              2         1       1   \n",
       "3              4         1       1   \n",
       "6              7         0       1   \n",
       "10            11         1       3   \n",
       "11            12         1       1   \n",
       "..           ...       ...     ...   \n",
       "871          872         1       1   \n",
       "872          873         0       1   \n",
       "879          880         1       1   \n",
       "887          888         1       1   \n",
       "889          890         1       1   \n",
       "\n",
       "                                                  Name     Sex   Age  SibSp  \\\n",
       "1    Cumings, Mrs. John Bradley (Florence Briggs Th...  female  38.0      1   \n",
       "3         Futrelle, Mrs. Jacques Heath (Lily May Peel)  female  35.0      1   \n",
       "6                              McCarthy, Mr. Timothy J    male  54.0      0   \n",
       "10                     Sandstrom, Miss. Marguerite Rut  female   4.0      1   \n",
       "11                            Bonnell, Miss. Elizabeth  female  58.0      0   \n",
       "..                                                 ...     ...   ...    ...   \n",
       "871   Beckwith, Mrs. Richard Leonard (Sallie Monypeny)  female  47.0      1   \n",
       "872                           Carlsson, Mr. Frans Olof    male  33.0      0   \n",
       "879      Potter, Mrs. Thomas Jr (Lily Alexenia Wilson)  female  56.0      0   \n",
       "887                       Graham, Miss. Margaret Edith  female  19.0      0   \n",
       "889                              Behr, Mr. Karl Howell    male  26.0      0   \n",
       "\n",
       "     Parch    Ticket     Fare        Cabin Embarked  \n",
       "1        0  PC 17599  71.2833          C85        C  \n",
       "3        0    113803  53.1000         C123        S  \n",
       "6        0     17463  51.8625          E46        S  \n",
       "10       1   PP 9549  16.7000           G6        S  \n",
       "11       0    113783  26.5500         C103        S  \n",
       "..     ...       ...      ...          ...      ...  \n",
       "871      1     11751  52.5542          D35        S  \n",
       "872      0       695   5.0000  B51 B53 B55        S  \n",
       "879      1     11767  83.1583          C50        C  \n",
       "887      0    112053  30.0000          B42        S  \n",
       "889      0    111369  30.0000         C148        C  \n",
       "\n",
       "[183 rows x 12 columns]"
      ]
     },
     "execution_count": 3,
     "metadata": {},
     "output_type": "execute_result"
    }
   ],
   "source": [
    "df_titanic[df_titanic.isnull().any(axis=1)] #mostra todas as linhas que tenha alguma informação nula em qualquer coluna\n",
    "df_titanic[~df_titanic.isnull().any(axis=1)] #mostra todas as linhas que não tenha alguma informação nula em qualquer coluna"
   ]
  },
  {
   "cell_type": "markdown",
   "id": "01db7d2c-0ebd-4728-9e51-eca41903d3e2",
   "metadata": {},
   "source": [
    "📦 *Etapa 1 — Carregamento e Diagnóstico Inicial*\n",
    "\n",
    "- Quais são os nomes das colunas?\n",
    "\n",
    "- Quais colunas têm valores ausentes?\n",
    "\n",
    "- Qual a média de idade dos passageiros?"
   ]
  },
  {
   "cell_type": "code",
   "execution_count": 4,
   "id": "0e33a97d-ed6d-4d58-bf73-afc6f5ff3e15",
   "metadata": {},
   "outputs": [
    {
     "data": {
      "text/plain": [
       "Index(['PassengerId', 'Survived', 'Pclass', 'Name', 'Sex', 'Age', 'SibSp',\n",
       "       'Parch', 'Ticket', 'Fare', 'Cabin', 'Embarked'],\n",
       "      dtype='object')"
      ]
     },
     "execution_count": 4,
     "metadata": {},
     "output_type": "execute_result"
    }
   ],
   "source": [
    "df_titanic.columns\n",
    "# as colunas são 'PassengerId', 'Survived', 'Pclass', 'Name', 'Sex', 'Age', 'SibSp','Parch', 'Ticket', 'Fare', 'Cabin', 'Embarked'"
   ]
  },
  {
   "cell_type": "code",
   "execution_count": 5,
   "id": "38223728-c084-4839-ba1e-0c8030dd7ba7",
   "metadata": {},
   "outputs": [
    {
     "data": {
      "text/plain": [
       "Index(['Age', 'Cabin', 'Embarked'], dtype='object')"
      ]
     },
     "execution_count": 5,
     "metadata": {},
     "output_type": "execute_result"
    }
   ],
   "source": [
    "colunas_nulas = df_titanic.columns[df_titanic.isnull().any()]\n",
    "colunas_nulas\n",
    "# as colunas que tem coisas nulas são 'Age', 'Cabin', 'Embarked'"
   ]
  },
  {
   "cell_type": "code",
   "execution_count": 6,
   "id": "18c1d322-040b-4e05-8317-f9ecc3194f3b",
   "metadata": {},
   "outputs": [
    {
     "data": {
      "text/plain": [
       "Index([  0,   2,   4,   5,   7,   8,   9,  12,  13,  14,\n",
       "       ...\n",
       "       878, 880, 881, 882, 883, 884, 885, 886, 888, 890],\n",
       "      dtype='int64', length=708)"
      ]
     },
     "execution_count": 6,
     "metadata": {},
     "output_type": "execute_result"
    }
   ],
   "source": [
    "linhas_nulas = df_titanic[df_titanic.isnull().any(axis=1)].index\n",
    "linhas_nulas # aqui mostra o índice das linhas que tem nulo"
   ]
  },
  {
   "cell_type": "code",
   "execution_count": 7,
   "id": "982914d2-e6b7-4cb7-8f1e-be1dd19d2edf",
   "metadata": {},
   "outputs": [
    {
     "data": {
      "text/plain": [
       "29.7"
      ]
     },
     "execution_count": 7,
     "metadata": {},
     "output_type": "execute_result"
    }
   ],
   "source": [
    "media_age = round(df_titanic['Age'].mean(), 1)\n",
    "media_age\n",
    "# a idade média é 29.7 anos"
   ]
  },
  {
   "cell_type": "markdown",
   "id": "bcd7f2bf-ff31-4824-bc7c-a9178724ae3c",
   "metadata": {},
   "source": [
    "🧹*Etapa 2 — Limpeza e Preparação*\n",
    "\n",
    "- Preencha os valores ausentes da coluna Age com a média arredondada da idade.\n",
    "\n",
    "- Preencha os valores ausentes da coluna Embarked com o valor mais frequente.\n",
    "\n",
    "- Crie uma nova coluna chamada Faixa_Etaria com as seguintes categorias:\n",
    "Criança se idade < 12\n",
    "\n",
    "Adolescente se idade entre 12 e 17\n",
    "\n",
    "Adulto se idade entre 18 e 59\n",
    "\n",
    "Idoso se idade ≥ 60"
   ]
  },
  {
   "cell_type": "code",
   "execution_count": 8,
   "id": "73a57338-37d1-4139-87d1-8f29ea2c52ab",
   "metadata": {},
   "outputs": [],
   "source": [
    "df_titanic.loc[df_titanic['Age'].isnull(), 'Age'] = media_age #substituí tudo que é nulo pela media só na coluna age usando .loc"
   ]
  },
  {
   "cell_type": "code",
   "execution_count": 9,
   "id": "d74ee759-39f4-4796-98df-7ee210e12913",
   "metadata": {},
   "outputs": [
    {
     "data": {
      "text/plain": [
       "Embarked\n",
       "S    646\n",
       "C    168\n",
       "Q     77\n",
       "Name: count, dtype: int64"
      ]
     },
     "execution_count": 9,
     "metadata": {},
     "output_type": "execute_result"
    }
   ],
   "source": [
    "df_titanic['Embarked'] = df_titanic['Embarked'].fillna('S') #substituí usando o fillna\n",
    "df_titanic['Embarked'].value_counts()"
   ]
  },
  {
   "cell_type": "code",
   "execution_count": 10,
   "id": "e337ecdc-7c62-4581-9e29-0a5029cf8191",
   "metadata": {},
   "outputs": [
    {
     "data": {
      "text/html": [
       "<div>\n",
       "<style scoped>\n",
       "    .dataframe tbody tr th:only-of-type {\n",
       "        vertical-align: middle;\n",
       "    }\n",
       "\n",
       "    .dataframe tbody tr th {\n",
       "        vertical-align: top;\n",
       "    }\n",
       "\n",
       "    .dataframe thead th {\n",
       "        text-align: right;\n",
       "    }\n",
       "</style>\n",
       "<table border=\"1\" class=\"dataframe\">\n",
       "  <thead>\n",
       "    <tr style=\"text-align: right;\">\n",
       "      <th></th>\n",
       "      <th>PassengerId</th>\n",
       "      <th>Survived</th>\n",
       "      <th>Pclass</th>\n",
       "      <th>Name</th>\n",
       "      <th>Sex</th>\n",
       "      <th>Age</th>\n",
       "      <th>SibSp</th>\n",
       "      <th>Parch</th>\n",
       "      <th>Ticket</th>\n",
       "      <th>Fare</th>\n",
       "      <th>Cabin</th>\n",
       "      <th>Embarked</th>\n",
       "      <th>Faixa_Etaria</th>\n",
       "    </tr>\n",
       "  </thead>\n",
       "  <tbody>\n",
       "    <tr>\n",
       "      <th>0</th>\n",
       "      <td>1</td>\n",
       "      <td>0</td>\n",
       "      <td>3</td>\n",
       "      <td>Braund, Mr. Owen Harris</td>\n",
       "      <td>male</td>\n",
       "      <td>22.0</td>\n",
       "      <td>1</td>\n",
       "      <td>0</td>\n",
       "      <td>A/5 21171</td>\n",
       "      <td>7.2500</td>\n",
       "      <td>NaN</td>\n",
       "      <td>S</td>\n",
       "      <td>Adulto</td>\n",
       "    </tr>\n",
       "    <tr>\n",
       "      <th>1</th>\n",
       "      <td>2</td>\n",
       "      <td>1</td>\n",
       "      <td>1</td>\n",
       "      <td>Cumings, Mrs. John Bradley (Florence Briggs Th...</td>\n",
       "      <td>female</td>\n",
       "      <td>38.0</td>\n",
       "      <td>1</td>\n",
       "      <td>0</td>\n",
       "      <td>PC 17599</td>\n",
       "      <td>71.2833</td>\n",
       "      <td>C85</td>\n",
       "      <td>C</td>\n",
       "      <td>Adulto</td>\n",
       "    </tr>\n",
       "    <tr>\n",
       "      <th>2</th>\n",
       "      <td>3</td>\n",
       "      <td>1</td>\n",
       "      <td>3</td>\n",
       "      <td>Heikkinen, Miss. Laina</td>\n",
       "      <td>female</td>\n",
       "      <td>26.0</td>\n",
       "      <td>0</td>\n",
       "      <td>0</td>\n",
       "      <td>STON/O2. 3101282</td>\n",
       "      <td>7.9250</td>\n",
       "      <td>NaN</td>\n",
       "      <td>S</td>\n",
       "      <td>Adulto</td>\n",
       "    </tr>\n",
       "    <tr>\n",
       "      <th>3</th>\n",
       "      <td>4</td>\n",
       "      <td>1</td>\n",
       "      <td>1</td>\n",
       "      <td>Futrelle, Mrs. Jacques Heath (Lily May Peel)</td>\n",
       "      <td>female</td>\n",
       "      <td>35.0</td>\n",
       "      <td>1</td>\n",
       "      <td>0</td>\n",
       "      <td>113803</td>\n",
       "      <td>53.1000</td>\n",
       "      <td>C123</td>\n",
       "      <td>S</td>\n",
       "      <td>Adulto</td>\n",
       "    </tr>\n",
       "    <tr>\n",
       "      <th>4</th>\n",
       "      <td>5</td>\n",
       "      <td>0</td>\n",
       "      <td>3</td>\n",
       "      <td>Allen, Mr. William Henry</td>\n",
       "      <td>male</td>\n",
       "      <td>35.0</td>\n",
       "      <td>0</td>\n",
       "      <td>0</td>\n",
       "      <td>373450</td>\n",
       "      <td>8.0500</td>\n",
       "      <td>NaN</td>\n",
       "      <td>S</td>\n",
       "      <td>Adulto</td>\n",
       "    </tr>\n",
       "  </tbody>\n",
       "</table>\n",
       "</div>"
      ],
      "text/plain": [
       "   PassengerId  Survived  Pclass  \\\n",
       "0            1         0       3   \n",
       "1            2         1       1   \n",
       "2            3         1       3   \n",
       "3            4         1       1   \n",
       "4            5         0       3   \n",
       "\n",
       "                                                Name     Sex   Age  SibSp  \\\n",
       "0                            Braund, Mr. Owen Harris    male  22.0      1   \n",
       "1  Cumings, Mrs. John Bradley (Florence Briggs Th...  female  38.0      1   \n",
       "2                             Heikkinen, Miss. Laina  female  26.0      0   \n",
       "3       Futrelle, Mrs. Jacques Heath (Lily May Peel)  female  35.0      1   \n",
       "4                           Allen, Mr. William Henry    male  35.0      0   \n",
       "\n",
       "   Parch            Ticket     Fare Cabin Embarked Faixa_Etaria  \n",
       "0      0         A/5 21171   7.2500   NaN        S       Adulto  \n",
       "1      0          PC 17599  71.2833   C85        C       Adulto  \n",
       "2      0  STON/O2. 3101282   7.9250   NaN        S       Adulto  \n",
       "3      0            113803  53.1000  C123        S       Adulto  \n",
       "4      0            373450   8.0500   NaN        S       Adulto  "
      ]
     },
     "execution_count": 10,
     "metadata": {},
     "output_type": "execute_result"
    }
   ],
   "source": [
    "condicoes = [\n",
    "    df_titanic['Age'] >= 60,\n",
    "    df_titanic['Age'] >= 18,\n",
    "    df_titanic['Age'] >= 12,\n",
    "    df_titanic['Age'] < 12\n",
    "]\n",
    "\n",
    "valores = ['Idoso', 'Adulto', 'Adolescente', 'Criança']\n",
    "\n",
    "df_titanic['Faixa_Etaria'] = np.select(condicoes, valores)\n",
    "df_titanic.head()"
   ]
  },
  {
   "cell_type": "markdown",
   "id": "e1212c5b-25c8-4d36-9a3c-fb179e4807cf",
   "metadata": {},
   "source": [
    "📊 *Etapa 3 — Análise com Pandas e Numpy*\n",
    "\n",
    "- Qual a taxa de sobrevivência geral dos passageiros?\n",
    "\n",
    "- Qual a taxa de sobrevivência por:\n",
    "\n",
    "- Sexo (Sex)\n",
    "\n",
    "- Classe (Pclass)\n",
    "\n",
    "- Faixa etária (Faixa_Etaria)\n",
    "\n",
    "- Quantas pessoas tinham o nome contendo 'Dr.'? E quantas delas sobreviveram?"
   ]
  },
  {
   "cell_type": "code",
   "execution_count": 11,
   "id": "56d78ef3-9365-47fd-90fe-e53305495400",
   "metadata": {},
   "outputs": [
    {
     "data": {
      "text/plain": [
       "38.38383838383838"
      ]
     },
     "execution_count": 11,
     "metadata": {},
     "output_type": "execute_result"
    }
   ],
   "source": [
    "sobreviventes = df_titanic.loc[df_titanic['Survived'] == 1, 'Survived'].count()\n",
    "total_pessoas = df_titanic['Survived'].count()\n",
    "taxa_sobrevivência = sobreviventes / total_pessoas\n",
    "taxa_sobrevivência*100 #taxa de sobrevivência geral"
   ]
  },
  {
   "cell_type": "code",
   "execution_count": 12,
   "id": "ecdaaedd-bc3f-4e45-af36-f99070e345e6",
   "metadata": {},
   "outputs": [
    {
     "name": "stdout",
     "output_type": "stream",
     "text": [
      "26.15039281705948\n",
      "12.2334455667789\n"
     ]
    },
    {
     "data": {
      "text/plain": [
       "Sex\n",
       "female    74.203822\n",
       "male      18.890815\n",
       "Name: Survived, dtype: float64"
      ]
     },
     "execution_count": 12,
     "metadata": {},
     "output_type": "execute_result"
    }
   ],
   "source": [
    "sobreviventes_mulheres = df_titanic.loc[(df_titanic['Survived'] == 1) & (df_titanic['Sex'] == 'female'), 'Sex'].count()\n",
    "print(sobreviventes_mulheres / total_pessoas * 100) #sobrevivente de cada classe em relação ao geral\n",
    "\n",
    "sobreviventes_homens = df_titanic.loc[(df_titanic['Survived'] == 1) & (df_titanic['Sex'] == 'male'), 'Sex'].count()\n",
    "print(sobreviventes_homens / total_pessoas * 100) #sobrevivente de cada classe em relação ao geral\n",
    "df_titanic.groupby('Sex')['Survived'].mean() * 100 #sobrivente de cada classe dentro do gruupo de cada classe"
   ]
  },
  {
   "cell_type": "code",
   "execution_count": 13,
   "id": "54788227-81ab-44de-975f-13300985a948",
   "metadata": {},
   "outputs": [
    {
     "name": "stdout",
     "output_type": "stream",
     "text": [
      "15.26374859708193\n",
      "9.764309764309765\n",
      "13.35578002244669\n"
     ]
    }
   ],
   "source": [
    "df_titanic['Pclass'].value_counts()\n",
    "sobreviventes_classe1 = df_titanic.loc[(df_titanic['Survived'] == 1) & (df_titanic['Pclass'] == 1), 'Sex'].count()\n",
    "sobreviventes_classe2 = df_titanic.loc[(df_titanic['Survived'] == 1) & (df_titanic['Pclass'] == 2), 'Sex'].count()\n",
    "sobreviventes_classe3 = df_titanic.loc[(df_titanic['Survived'] == 1) & (df_titanic['Pclass'] == 3), 'Sex'].count()\n",
    "print(sobreviventes_classe1 / total_pessoas * 100)\n",
    "print(sobreviventes_classe2 / total_pessoas * 100)\n",
    "print(sobreviventes_classe3 / total_pessoas * 100)"
   ]
  },
  {
   "cell_type": "code",
   "execution_count": 14,
   "id": "6cbf2119-bf86-4acb-a6e1-015553a53a05",
   "metadata": {},
   "outputs": [
    {
     "name": "stdout",
     "output_type": "stream",
     "text": [
      "Pclass\n",
      "1    15.263749\n",
      "2     9.764310\n",
      "3    13.355780\n",
      "Name: Sex, dtype: float64\n"
     ]
    },
    {
     "data": {
      "text/plain": [
       "Pclass\n",
       "1    62.962963\n",
       "2    47.282609\n",
       "3    24.236253\n",
       "Name: Survived, dtype: float64"
      ]
     },
     "execution_count": 14,
     "metadata": {},
     "output_type": "execute_result"
    }
   ],
   "source": [
    "sobreviventes_por_classe = df_titanic[df_titanic['Survived'] == 1].groupby('Pclass')['Sex'].count() #sex aqui pode ser qualquer coluna não nula\n",
    "print(sobreviventes_por_classe / len(df_titanic) * 100) #sobrevivente de cada classe em relação ao geral\n",
    "df_titanic.groupby('Pclass')['Survived'].mean() * 100 #sobrivente de cada classe dentro do gruupo de cada classe"
   ]
  },
  {
   "cell_type": "code",
   "execution_count": 15,
   "id": "5655372d-4c8a-4dfa-b4b2-b06696d15f07",
   "metadata": {},
   "outputs": [
    {
     "name": "stdout",
     "output_type": "stream",
     "text": [
      "Faixa_Etaria\n",
      "Adolescente     22\n",
      "Adulto         274\n",
      "Criança         39\n",
      "Idoso            7\n",
      "Name: Sex, dtype: int64\n",
      "Faixa_Etaria\n",
      "Adolescente     2.469136\n",
      "Adulto         30.751964\n",
      "Criança         4.377104\n",
      "Idoso           0.785634\n",
      "Name: Sex, dtype: float64\n"
     ]
    },
    {
     "data": {
      "text/plain": [
       "Faixa_Etaria\n",
       "Adolescente    48.888889\n",
       "Adulto         36.436170\n",
       "Criança        57.352941\n",
       "Idoso          26.923077\n",
       "Name: Survived, dtype: float64"
      ]
     },
     "execution_count": 15,
     "metadata": {},
     "output_type": "execute_result"
    }
   ],
   "source": [
    "sobreviventes_faixa_etaria = df_titanic[df_titanic['Survived'] == 1].groupby('Faixa_Etaria')['Sex'].count()\n",
    "print(sobreviventes_faixa_etaria)\n",
    "print(sobreviventes_faixa_etaria / len(df_titanic)*100) #sobrevivente de cada classe em relação ao geral\n",
    "df_titanic.groupby('Faixa_Etaria')['Survived'].mean()*100 #sobrivente de cada classe dentro do gruupo de cada classe"
   ]
  },
  {
   "cell_type": "code",
   "execution_count": 16,
   "id": "e9da9009-1355-49dc-9f1d-df8153b17202",
   "metadata": {},
   "outputs": [
    {
     "name": "stdout",
     "output_type": "stream",
     "text": [
      "7\n",
      "3\n",
      "0.33670033670033667\n",
      "42.857142857142854\n"
     ]
    }
   ],
   "source": [
    "pessoas_dr = df_titanic.loc[df_titanic['Name'].str.contains(r'\\bDr\\.', case=False, na=False), 'Name'].count() # 7 pessoas com o Dr. no nome\n",
    "sobreviventes_dr = df_titanic.loc[df_titanic['Name'].str.contains(r'\\bDr\\.', case=False, na=False) & (df_titanic['Survived'] == 1), 'Name'].count() #3 sobreviventes\n",
    "print(pessoas_dr)\n",
    "print(sobreviventes_dr)\n",
    "print(sobreviventes_dr/len(df_titanic)*100) #porcentagem em relação ao total\n",
    "print(sobreviventes_dr/pessoas_dr*100) #porcentagem viva dentro da classe"
   ]
  },
  {
   "cell_type": "markdown",
   "id": "0ba461e2-5317-4ba8-b06e-b811b5f3c2be",
   "metadata": {},
   "source": [
    "📈 *Etapa 4 — Desafio com Matplotlib*\n",
    "\n",
    "Use matplotlib.pyplot para criar:\n",
    "- Um histograma da idade dos passageiros.\n",
    "- Um gráfico de barras comparando a taxa de sobrevivência por classe."
   ]
  },
  {
   "cell_type": "code",
   "execution_count": 59,
   "id": "81db98e2-823b-40ef-87dd-8aafd109397c",
   "metadata": {},
   "outputs": [
    {
     "data": {
      "text/plain": [
       "Text(0.5, 1.0, 'Quantidade de Pessoas por Idade')"
      ]
     },
     "execution_count": 59,
     "metadata": {},
     "output_type": "execute_result"
    },
    {
     "data": {
      "image/png": "[encoded data removed]",
      "text/plain": [
       "<Figure size 640x480 with 1 Axes>"
      ]
     },
     "metadata": {},
     "output_type": "display_data"
    }
   ],
   "source": [
    "plt.hist(df_titanic['Age'], bins=8, edgecolor= 'black')\n",
    "plt.xlabel('Idade')\n",
    "plt.ylabel('Pessoas')\n",
    "plt.title('Quantidade de Pessoas por Idade')"
   ]
  },
  {
   "cell_type": "code",
   "execution_count": 60,
   "id": "1e5e8c91-4b80-4240-89bf-9e942a4de571",
   "metadata": {},
   "outputs": [
    {
     "data": {
      "text/plain": [
       "Text(0.5, 1.0, 'Sobreviventes por Classe')"
      ]
     },
     "execution_count": 60,
     "metadata": {},
     "output_type": "execute_result"
    },
    {
     "data": {
      "image/png": "[encoded data removed]",
      "text/plain": [
       "<Figure size 640x480 with 1 Axes>"
      ]
     },
     "metadata": {},
     "output_type": "display_data"
    }
   ],
   "source": [
    "plt.bar(df_titanic.groupby('Pclass')['Survived'].sum().index ,df_titanic.groupby('Pclass')['Survived'].sum().values, edgecolor = 'black')\n",
    "plt.xlabel('Classe')\n",
    "plt.ylabel('Sobreviventes')\n",
    "plt.title('Sobreviventes por Classe')"
   ]
  }
 ],
 "metadata": {
  "kernelspec": {
   "display_name": "Python 3 (ipykernel)",
   "language": "python",
   "name": "python3"
  },
  "language_info": {
   "codemirror_mode": {
    "name": "ipython",
    "version": 3
   },
   "file_extension": ".py",
   "mimetype": "text/x-python",
   "name": "python",
   "nbconvert_exporter": "python",
   "pygments_lexer": "ipython3",
   "version": "3.12.7"
  }
 },
 "nbformat": 4,
 "nbformat_minor": 5
}
